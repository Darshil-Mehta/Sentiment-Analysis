{
 "cells": [
  {
   "cell_type": "code",
   "execution_count": 2,
   "metadata": {
    "_cell_guid": "b1076dfc-b9ad-4769-8c92-a6c4dae69d19",
    "_uuid": "8f2839f25d086af736a60e9eeb907d3b93b6e0e5",
    "execution": {
     "iopub.execute_input": "2021-10-30T07:16:49.473210Z",
     "iopub.status.busy": "2021-10-30T07:16:49.472623Z",
     "iopub.status.idle": "2021-10-30T07:16:49.487851Z",
     "shell.execute_reply": "2021-10-30T07:16:49.486940Z",
     "shell.execute_reply.started": "2021-10-30T07:16:49.473177Z"
    }
   },
   "outputs": [],
   "source": [
    "# DataFrame\n",
    "import pandas as pd\n",
    "\n",
    "# Matplot\n",
    "import matplotlib.pyplot as plt\n",
    "%matplotlib inline\n",
    "\n",
    "# Scikit-learn\n",
    "from sklearn.model_selection import train_test_split\n",
    "from sklearn.preprocessing import LabelEncoder\n",
    "from sklearn.metrics import confusion_matrix, classification_report, accuracy_score\n",
    "from sklearn.manifold import TSNE\n",
    "from sklearn.feature_extraction.text import TfidfVectorizer\n",
    "\n",
    "# Keras\n",
    "from keras.preprocessing.text import Tokenizer\n",
    "from keras.preprocessing.sequence import pad_sequences\n",
    "from keras.models import Sequential\n",
    "from keras.layers import Activation, Dense, Dropout, Embedding, Flatten, Conv1D, MaxPooling1D, LSTM\n",
    "from keras import utils\n",
    "from keras.callbacks import ReduceLROnPlateau, EarlyStopping\n",
    "\n",
    "# nltk\n",
    "import nltk\n",
    "from nltk.corpus import stopwords\n",
    "from  nltk.stem import SnowballStemmer\n",
    "\n",
    "# Word2vec\n",
    "import gensim\n",
    "\n",
    "# Utility\n",
    "import re\n",
    "import numpy as np\n",
    "import os\n",
    "from collections import Counter\n",
    "import logging\n",
    "import time\n",
    "import pickle\n",
    "import itertools\n",
    "\n",
    "# Set log\n",
    "logging.basicConfig(format='%(asctime)s : %(levelname)s : %(message)s', level=logging.INFO)"
   ]
  },
  {
   "cell_type": "code",
   "execution_count": 3,
   "metadata": {
    "execution": {
     "iopub.execute_input": "2021-10-30T07:16:49.490188Z",
     "iopub.status.busy": "2021-10-30T07:16:49.489723Z",
     "iopub.status.idle": "2021-10-30T07:16:49.735121Z",
     "shell.execute_reply": "2021-10-30T07:16:49.734397Z",
     "shell.execute_reply.started": "2021-10-30T07:16:49.490152Z"
    }
   },
   "outputs": [
    {
     "name": "stdout",
     "output_type": "stream",
     "text": [
      "[nltk_data] Downloading package stopwords to /usr/share/nltk_data...\n",
      "[nltk_data]   Unzipping corpora/stopwords.zip.\n"
     ]
    },
    {
     "data": {
      "text/plain": [
       "True"
      ]
     },
     "execution_count": 3,
     "metadata": {},
     "output_type": "execute_result"
    }
   ],
   "source": [
    "nltk.download('stopwords')"
   ]
  },
  {
   "cell_type": "code",
   "execution_count": 4,
   "metadata": {
    "execution": {
     "iopub.execute_input": "2021-10-30T07:16:49.737149Z",
     "iopub.status.busy": "2021-10-30T07:16:49.736428Z",
     "iopub.status.idle": "2021-10-30T07:16:49.744442Z",
     "shell.execute_reply": "2021-10-30T07:16:49.743760Z",
     "shell.execute_reply.started": "2021-10-30T07:16:49.737111Z"
    }
   },
   "outputs": [],
   "source": [
    "# DATASET\n",
    "DATASET_COLUMNS = [\"target\", \"ids\", \"date\", \"flag\", \"user\", \"text\"]\n",
    "DATASET_ENCODING = \"ISO-8859-1\"\n",
    "TRAIN_SIZE = 0.8\n",
    "\n",
    "# TEXT CLENAING\n",
    "TEXT_CLEANING_RE = \"@\\S+|https?:\\S+|http?:\\S|[^A-Za-z0-9]+\"\n",
    "\n",
    "# WORD2VEC \n",
    "W2V_SIZE = 300\n",
    "W2V_WINDOW = 7\n",
    "W2V_EPOCH = 32\n",
    "W2V_MIN_COUNT = 10\n",
    "\n",
    "# KERAS\n",
    "SEQUENCE_LENGTH = 300\n",
    "EPOCHS = 8\n",
    "BATCH_SIZE = 1024\n",
    "\n",
    "# SENTIMENT\n",
    "POSITIVE = \"POSITIVE\"\n",
    "NEGATIVE = \"NEGATIVE\"\n",
    "NEUTRAL = \"NEUTRAL\"\n",
    "SENTIMENT_THRESHOLDS = (0.4, 0.7)\n",
    "\n",
    "# EXPORT\n",
    "KERAS_MODEL = \"model.h5\"\n",
    "WORD2VEC_MODEL = \"model.w2v\"\n",
    "TOKENIZER_MODEL = \"tokenizer.pkl\"\n",
    "ENCODER_MODEL = \"encoder.pkl\""
   ]
  },
  {
   "cell_type": "code",
   "execution_count": 5,
   "metadata": {
    "execution": {
     "iopub.execute_input": "2021-10-30T07:16:49.746278Z",
     "iopub.status.busy": "2021-10-30T07:16:49.745888Z",
     "iopub.status.idle": "2021-10-30T07:16:55.174924Z",
     "shell.execute_reply": "2021-10-30T07:16:55.174192Z",
     "shell.execute_reply.started": "2021-10-30T07:16:49.746240Z"
    }
   },
   "outputs": [
    {
     "name": "stdout",
     "output_type": "stream",
     "text": [
      "Open file: ../input/sentiment140/training.1600000.processed.noemoticon.csv\n"
     ]
    }
   ],
   "source": [
    "dataset_path = \"../input/sentiment140/training.1600000.processed.noemoticon.csv\"\n",
    "print(\"Open file:\", dataset_path)\n",
    "df = pd.read_csv(dataset_path, encoding=DATASET_ENCODING , names=DATASET_COLUMNS)"
   ]
  },
  {
   "cell_type": "code",
   "execution_count": 6,
   "metadata": {
    "execution": {
     "iopub.execute_input": "2021-10-30T07:16:55.179801Z",
     "iopub.status.busy": "2021-10-30T07:16:55.179179Z",
     "iopub.status.idle": "2021-10-30T07:16:55.199986Z",
     "shell.execute_reply": "2021-10-30T07:16:55.199009Z",
     "shell.execute_reply.started": "2021-10-30T07:16:55.179758Z"
    }
   },
   "outputs": [
    {
     "data": {
      "text/html": [
       "<div>\n",
       "<style scoped>\n",
       "    .dataframe tbody tr th:only-of-type {\n",
       "        vertical-align: middle;\n",
       "    }\n",
       "\n",
       "    .dataframe tbody tr th {\n",
       "        vertical-align: top;\n",
       "    }\n",
       "\n",
       "    .dataframe thead th {\n",
       "        text-align: right;\n",
       "    }\n",
       "</style>\n",
       "<table border=\"1\" class=\"dataframe\">\n",
       "  <thead>\n",
       "    <tr style=\"text-align: right;\">\n",
       "      <th></th>\n",
       "      <th>target</th>\n",
       "      <th>ids</th>\n",
       "      <th>date</th>\n",
       "      <th>flag</th>\n",
       "      <th>user</th>\n",
       "      <th>text</th>\n",
       "    </tr>\n",
       "  </thead>\n",
       "  <tbody>\n",
       "    <tr>\n",
       "      <th>0</th>\n",
       "      <td>0</td>\n",
       "      <td>1467810369</td>\n",
       "      <td>Mon Apr 06 22:19:45 PDT 2009</td>\n",
       "      <td>NO_QUERY</td>\n",
       "      <td>_TheSpecialOne_</td>\n",
       "      <td>@switchfoot http://twitpic.com/2y1zl - Awww, t...</td>\n",
       "    </tr>\n",
       "    <tr>\n",
       "      <th>1</th>\n",
       "      <td>0</td>\n",
       "      <td>1467810672</td>\n",
       "      <td>Mon Apr 06 22:19:49 PDT 2009</td>\n",
       "      <td>NO_QUERY</td>\n",
       "      <td>scotthamilton</td>\n",
       "      <td>is upset that he can't update his Facebook by ...</td>\n",
       "    </tr>\n",
       "    <tr>\n",
       "      <th>2</th>\n",
       "      <td>0</td>\n",
       "      <td>1467810917</td>\n",
       "      <td>Mon Apr 06 22:19:53 PDT 2009</td>\n",
       "      <td>NO_QUERY</td>\n",
       "      <td>mattycus</td>\n",
       "      <td>@Kenichan I dived many times for the ball. Man...</td>\n",
       "    </tr>\n",
       "    <tr>\n",
       "      <th>3</th>\n",
       "      <td>0</td>\n",
       "      <td>1467811184</td>\n",
       "      <td>Mon Apr 06 22:19:57 PDT 2009</td>\n",
       "      <td>NO_QUERY</td>\n",
       "      <td>ElleCTF</td>\n",
       "      <td>my whole body feels itchy and like its on fire</td>\n",
       "    </tr>\n",
       "    <tr>\n",
       "      <th>4</th>\n",
       "      <td>0</td>\n",
       "      <td>1467811193</td>\n",
       "      <td>Mon Apr 06 22:19:57 PDT 2009</td>\n",
       "      <td>NO_QUERY</td>\n",
       "      <td>Karoli</td>\n",
       "      <td>@nationwideclass no, it's not behaving at all....</td>\n",
       "    </tr>\n",
       "  </tbody>\n",
       "</table>\n",
       "</div>"
      ],
      "text/plain": [
       "   target         ids                          date      flag  \\\n",
       "0       0  1467810369  Mon Apr 06 22:19:45 PDT 2009  NO_QUERY   \n",
       "1       0  1467810672  Mon Apr 06 22:19:49 PDT 2009  NO_QUERY   \n",
       "2       0  1467810917  Mon Apr 06 22:19:53 PDT 2009  NO_QUERY   \n",
       "3       0  1467811184  Mon Apr 06 22:19:57 PDT 2009  NO_QUERY   \n",
       "4       0  1467811193  Mon Apr 06 22:19:57 PDT 2009  NO_QUERY   \n",
       "\n",
       "              user                                               text  \n",
       "0  _TheSpecialOne_  @switchfoot http://twitpic.com/2y1zl - Awww, t...  \n",
       "1    scotthamilton  is upset that he can't update his Facebook by ...  \n",
       "2         mattycus  @Kenichan I dived many times for the ball. Man...  \n",
       "3          ElleCTF    my whole body feels itchy and like its on fire   \n",
       "4           Karoli  @nationwideclass no, it's not behaving at all....  "
      ]
     },
     "execution_count": 6,
     "metadata": {},
     "output_type": "execute_result"
    }
   ],
   "source": [
    "df.head()"
   ]
  },
  {
   "cell_type": "code",
   "execution_count": 7,
   "metadata": {
    "execution": {
     "iopub.execute_input": "2021-10-30T07:16:55.202134Z",
     "iopub.status.busy": "2021-10-30T07:16:55.201718Z",
     "iopub.status.idle": "2021-10-30T07:16:55.207740Z",
     "shell.execute_reply": "2021-10-30T07:16:55.206846Z",
     "shell.execute_reply.started": "2021-10-30T07:16:55.202095Z"
    }
   },
   "outputs": [],
   "source": [
    "decode_map = {0: \"NEGATIVE\", \n",
    "              2: \"NEUTRAL\", \n",
    "              4: \"POSITIVE\"}\n",
    "\n",
    "\n",
    "def decode_sentiment(label):\n",
    "    return decode_map[int(label)]"
   ]
  },
  {
   "cell_type": "code",
   "execution_count": 8,
   "metadata": {
    "execution": {
     "iopub.execute_input": "2021-10-30T07:16:55.210096Z",
     "iopub.status.busy": "2021-10-30T07:16:55.209164Z",
     "iopub.status.idle": "2021-10-30T07:16:55.874979Z",
     "shell.execute_reply": "2021-10-30T07:16:55.873344Z",
     "shell.execute_reply.started": "2021-10-30T07:16:55.210056Z"
    }
   },
   "outputs": [
    {
     "name": "stdout",
     "output_type": "stream",
     "text": [
      "CPU times: user 632 ms, sys: 20.1 ms, total: 652 ms\n",
      "Wall time: 653 ms\n"
     ]
    }
   ],
   "source": [
    "%%time\n",
    "df.target = df.target.apply(lambda x: decode_sentiment(x))"
   ]
  },
  {
   "cell_type": "code",
   "execution_count": 9,
   "metadata": {
    "execution": {
     "iopub.execute_input": "2021-10-30T07:16:55.877993Z",
     "iopub.status.busy": "2021-10-30T07:16:55.877510Z",
     "iopub.status.idle": "2021-10-30T07:16:55.890197Z",
     "shell.execute_reply": "2021-10-30T07:16:55.889304Z",
     "shell.execute_reply.started": "2021-10-30T07:16:55.877949Z"
    }
   },
   "outputs": [
    {
     "data": {
      "text/html": [
       "<div>\n",
       "<style scoped>\n",
       "    .dataframe tbody tr th:only-of-type {\n",
       "        vertical-align: middle;\n",
       "    }\n",
       "\n",
       "    .dataframe tbody tr th {\n",
       "        vertical-align: top;\n",
       "    }\n",
       "\n",
       "    .dataframe thead th {\n",
       "        text-align: right;\n",
       "    }\n",
       "</style>\n",
       "<table border=\"1\" class=\"dataframe\">\n",
       "  <thead>\n",
       "    <tr style=\"text-align: right;\">\n",
       "      <th></th>\n",
       "      <th>target</th>\n",
       "      <th>ids</th>\n",
       "      <th>date</th>\n",
       "      <th>flag</th>\n",
       "      <th>user</th>\n",
       "      <th>text</th>\n",
       "    </tr>\n",
       "  </thead>\n",
       "  <tbody>\n",
       "    <tr>\n",
       "      <th>0</th>\n",
       "      <td>NEGATIVE</td>\n",
       "      <td>1467810369</td>\n",
       "      <td>Mon Apr 06 22:19:45 PDT 2009</td>\n",
       "      <td>NO_QUERY</td>\n",
       "      <td>_TheSpecialOne_</td>\n",
       "      <td>@switchfoot http://twitpic.com/2y1zl - Awww, t...</td>\n",
       "    </tr>\n",
       "    <tr>\n",
       "      <th>1</th>\n",
       "      <td>NEGATIVE</td>\n",
       "      <td>1467810672</td>\n",
       "      <td>Mon Apr 06 22:19:49 PDT 2009</td>\n",
       "      <td>NO_QUERY</td>\n",
       "      <td>scotthamilton</td>\n",
       "      <td>is upset that he can't update his Facebook by ...</td>\n",
       "    </tr>\n",
       "    <tr>\n",
       "      <th>2</th>\n",
       "      <td>NEGATIVE</td>\n",
       "      <td>1467810917</td>\n",
       "      <td>Mon Apr 06 22:19:53 PDT 2009</td>\n",
       "      <td>NO_QUERY</td>\n",
       "      <td>mattycus</td>\n",
       "      <td>@Kenichan I dived many times for the ball. Man...</td>\n",
       "    </tr>\n",
       "    <tr>\n",
       "      <th>3</th>\n",
       "      <td>NEGATIVE</td>\n",
       "      <td>1467811184</td>\n",
       "      <td>Mon Apr 06 22:19:57 PDT 2009</td>\n",
       "      <td>NO_QUERY</td>\n",
       "      <td>ElleCTF</td>\n",
       "      <td>my whole body feels itchy and like its on fire</td>\n",
       "    </tr>\n",
       "    <tr>\n",
       "      <th>4</th>\n",
       "      <td>NEGATIVE</td>\n",
       "      <td>1467811193</td>\n",
       "      <td>Mon Apr 06 22:19:57 PDT 2009</td>\n",
       "      <td>NO_QUERY</td>\n",
       "      <td>Karoli</td>\n",
       "      <td>@nationwideclass no, it's not behaving at all....</td>\n",
       "    </tr>\n",
       "  </tbody>\n",
       "</table>\n",
       "</div>"
      ],
      "text/plain": [
       "     target         ids                          date      flag  \\\n",
       "0  NEGATIVE  1467810369  Mon Apr 06 22:19:45 PDT 2009  NO_QUERY   \n",
       "1  NEGATIVE  1467810672  Mon Apr 06 22:19:49 PDT 2009  NO_QUERY   \n",
       "2  NEGATIVE  1467810917  Mon Apr 06 22:19:53 PDT 2009  NO_QUERY   \n",
       "3  NEGATIVE  1467811184  Mon Apr 06 22:19:57 PDT 2009  NO_QUERY   \n",
       "4  NEGATIVE  1467811193  Mon Apr 06 22:19:57 PDT 2009  NO_QUERY   \n",
       "\n",
       "              user                                               text  \n",
       "0  _TheSpecialOne_  @switchfoot http://twitpic.com/2y1zl - Awww, t...  \n",
       "1    scotthamilton  is upset that he can't update his Facebook by ...  \n",
       "2         mattycus  @Kenichan I dived many times for the ball. Man...  \n",
       "3          ElleCTF    my whole body feels itchy and like its on fire   \n",
       "4           Karoli  @nationwideclass no, it's not behaving at all....  "
      ]
     },
     "execution_count": 9,
     "metadata": {},
     "output_type": "execute_result"
    }
   ],
   "source": [
    "df.head()"
   ]
  },
  {
   "cell_type": "markdown",
   "metadata": {},
   "source": [
    "**Pre-Processing the Text column**"
   ]
  },
  {
   "cell_type": "code",
   "execution_count": 10,
   "metadata": {
    "execution": {
     "iopub.execute_input": "2021-10-30T07:16:55.892872Z",
     "iopub.status.busy": "2021-10-30T07:16:55.891966Z",
     "iopub.status.idle": "2021-10-30T07:16:55.900270Z",
     "shell.execute_reply": "2021-10-30T07:16:55.899419Z",
     "shell.execute_reply.started": "2021-10-30T07:16:55.892832Z"
    }
   },
   "outputs": [],
   "source": [
    "stop_words = stopwords.words(\"english\")\n",
    "stemmer = SnowballStemmer(\"english\")"
   ]
  },
  {
   "cell_type": "code",
   "execution_count": 11,
   "metadata": {
    "execution": {
     "iopub.execute_input": "2021-10-30T07:16:55.902227Z",
     "iopub.status.busy": "2021-10-30T07:16:55.901641Z",
     "iopub.status.idle": "2021-10-30T07:16:55.912695Z",
     "shell.execute_reply": "2021-10-30T07:16:55.911960Z",
     "shell.execute_reply.started": "2021-10-30T07:16:55.902189Z"
    }
   },
   "outputs": [
    {
     "name": "stdout",
     "output_type": "stream",
     "text": [
      "['i', 'me', 'my', 'myself', 'we', 'our', 'ours', 'ourselves', 'you', \"you're\", \"you've\", \"you'll\", \"you'd\", 'your', 'yours', 'yourself', 'yourselves', 'he', 'him', 'his', 'himself', 'she', \"she's\", 'her', 'hers', 'herself', 'it', \"it's\", 'its', 'itself', 'they', 'them', 'their', 'theirs', 'themselves', 'what', 'which', 'who', 'whom', 'this', 'that', \"that'll\", 'these', 'those', 'am', 'is', 'are', 'was', 'were', 'be', 'been', 'being', 'have', 'has', 'had', 'having', 'do', 'does', 'did', 'doing', 'a', 'an', 'the', 'and', 'but', 'if', 'or', 'because', 'as', 'until', 'while', 'of', 'at', 'by', 'for', 'with', 'about', 'against', 'between', 'into', 'through', 'during', 'before', 'after', 'above', 'below', 'to', 'from', 'up', 'down', 'in', 'out', 'on', 'off', 'over', 'under', 'again', 'further', 'then', 'once', 'here', 'there', 'when', 'where', 'why', 'how', 'all', 'any', 'both', 'each', 'few', 'more', 'most', 'other', 'some', 'such', 'no', 'nor', 'not', 'only', 'own', 'same', 'so', 'than', 'too', 'very', 's', 't', 'can', 'will', 'just', 'don', \"don't\", 'should', \"should've\", 'now', 'd', 'll', 'm', 'o', 're', 've', 'y', 'ain', 'aren', \"aren't\", 'couldn', \"couldn't\", 'didn', \"didn't\", 'doesn', \"doesn't\", 'hadn', \"hadn't\", 'hasn', \"hasn't\", 'haven', \"haven't\", 'isn', \"isn't\", 'ma', 'mightn', \"mightn't\", 'mustn', \"mustn't\", 'needn', \"needn't\", 'shan', \"shan't\", 'shouldn', \"shouldn't\", 'wasn', \"wasn't\", 'weren', \"weren't\", 'won', \"won't\", 'wouldn', \"wouldn't\"]\n"
     ]
    }
   ],
   "source": [
    "print(stop_words)"
   ]
  },
  {
   "cell_type": "code",
   "execution_count": 12,
   "metadata": {
    "execution": {
     "iopub.execute_input": "2021-10-30T07:16:55.914526Z",
     "iopub.status.busy": "2021-10-30T07:16:55.913985Z",
     "iopub.status.idle": "2021-10-30T07:16:55.921503Z",
     "shell.execute_reply": "2021-10-30T07:16:55.920540Z",
     "shell.execute_reply.started": "2021-10-30T07:16:55.914360Z"
    }
   },
   "outputs": [],
   "source": [
    "def preprocess(text, stem=False):\n",
    "    text = re.sub(TEXT_CLEANING_RE, ' ', str(text).lower()).strip()\n",
    "    tokens = []\n",
    "    for token in text.split():\n",
    "        if token not in stop_words:\n",
    "            if stem:\n",
    "                tokens.append(stemmer.stem(token))\n",
    "            else:\n",
    "                tokens.append(token)\n",
    "    return \" \".join(tokens)"
   ]
  },
  {
   "cell_type": "code",
   "execution_count": 13,
   "metadata": {
    "execution": {
     "iopub.execute_input": "2021-10-30T07:16:55.923526Z",
     "iopub.status.busy": "2021-10-30T07:16:55.922931Z",
     "iopub.status.idle": "2021-10-30T07:17:49.964905Z",
     "shell.execute_reply": "2021-10-30T07:17:49.964138Z",
     "shell.execute_reply.started": "2021-10-30T07:16:55.923488Z"
    }
   },
   "outputs": [
    {
     "name": "stdout",
     "output_type": "stream",
     "text": [
      "CPU times: user 53.7 s, sys: 166 ms, total: 53.9 s\n",
      "Wall time: 54 s\n"
     ]
    }
   ],
   "source": [
    "%%time\n",
    "df.text = df.text.apply(lambda x: preprocess(x))"
   ]
  },
  {
   "cell_type": "markdown",
   "metadata": {},
   "source": [
    "**Visualize the Data**"
   ]
  },
  {
   "cell_type": "code",
   "execution_count": 14,
   "metadata": {
    "execution": {
     "iopub.execute_input": "2021-10-30T07:17:49.966728Z",
     "iopub.status.busy": "2021-10-30T07:17:49.966294Z",
     "iopub.status.idle": "2021-10-30T07:17:50.418952Z",
     "shell.execute_reply": "2021-10-30T07:17:50.418185Z",
     "shell.execute_reply.started": "2021-10-30T07:17:49.966689Z"
    }
   },
   "outputs": [
    {
     "data": {
      "text/plain": [
       "Text(0.5, 1.0, 'Dataset labels distribuition')"
      ]
     },
     "execution_count": 14,
     "metadata": {},
     "output_type": "execute_result"
    },
    {
     "data": {
      "image/png": "[encoded data removed]",
      "text/plain": [
       "<Figure size 1152x576 with 1 Axes>"
      ]
     },
     "metadata": {
      "needs_background": "light"
     },
     "output_type": "display_data"
    }
   ],
   "source": [
    "target_cnt = Counter(df.target)\n",
    "\n",
    "plt.figure(figsize=(16,8))\n",
    "plt.bar(target_cnt.keys(), target_cnt.values())\n",
    "plt.title(\"Dataset labels distribuition\")"
   ]
  },
  {
   "cell_type": "markdown",
   "metadata": {},
   "source": [
    "**Train Test Split**"
   ]
  },
  {
   "cell_type": "code",
   "execution_count": 15,
   "metadata": {
    "execution": {
     "iopub.execute_input": "2021-10-30T07:17:50.423633Z",
     "iopub.status.busy": "2021-10-30T07:17:50.423318Z",
     "iopub.status.idle": "2021-10-30T07:17:51.723576Z",
     "shell.execute_reply": "2021-10-30T07:17:51.722801Z",
     "shell.execute_reply.started": "2021-10-30T07:17:50.423597Z"
    }
   },
   "outputs": [
    {
     "name": "stdout",
     "output_type": "stream",
     "text": [
      "TRAIN size: 1280000\n",
      "TEST size: 320000\n"
     ]
    }
   ],
   "source": [
    "df_train, df_test = train_test_split(df, test_size=1-TRAIN_SIZE, random_state=42)\n",
    "print(\"TRAIN size:\", len(df_train))\n",
    "print(\"TEST size:\", len(df_test))"
   ]
  },
  {
   "cell_type": "markdown",
   "metadata": {},
   "source": [
    "**Word2Vec**"
   ]
  },
  {
   "cell_type": "code",
   "execution_count": 16,
   "metadata": {
    "execution": {
     "iopub.execute_input": "2021-10-30T07:17:51.725301Z",
     "iopub.status.busy": "2021-10-30T07:17:51.724887Z",
     "iopub.status.idle": "2021-10-30T07:17:54.804106Z",
     "shell.execute_reply": "2021-10-30T07:17:54.801629Z",
     "shell.execute_reply.started": "2021-10-30T07:17:51.725262Z"
    }
   },
   "outputs": [
    {
     "name": "stdout",
     "output_type": "stream",
     "text": [
      "CPU times: user 2.75 s, sys: 321 ms, total: 3.07 s\n",
      "Wall time: 3.07 s\n"
     ]
    }
   ],
   "source": [
    "%%time\n",
    "documents = [_text.split() for _text in df_train.text] "
   ]
  },
  {
   "cell_type": "code",
   "execution_count": 17,
   "metadata": {
    "execution": {
     "iopub.execute_input": "2021-10-30T07:17:54.806617Z",
     "iopub.status.busy": "2021-10-30T07:17:54.805246Z",
     "iopub.status.idle": "2021-10-30T07:17:54.811807Z",
     "shell.execute_reply": "2021-10-30T07:17:54.811129Z",
     "shell.execute_reply.started": "2021-10-30T07:17:54.806573Z"
    }
   },
   "outputs": [
    {
     "name": "stdout",
     "output_type": "stream",
     "text": [
      "[['ya', 'quot', 'like', 'palm', 'pre', 'touchstone', 'charger', 'readynow', 'yes', 'sounds', 'good', 'beer', 'ready', 'prelaunch']]\n"
     ]
    }
   ],
   "source": [
    "print(documents[0:1])"
   ]
  },
  {
   "cell_type": "code",
   "execution_count": 18,
   "metadata": {
    "execution": {
     "iopub.execute_input": "2021-10-30T07:17:54.813696Z",
     "iopub.status.busy": "2021-10-30T07:17:54.813186Z",
     "iopub.status.idle": "2021-10-30T07:17:54.822263Z",
     "shell.execute_reply": "2021-10-30T07:17:54.821589Z",
     "shell.execute_reply.started": "2021-10-30T07:17:54.813657Z"
    }
   },
   "outputs": [],
   "source": [
    "w2v_model = gensim.models.word2vec.Word2Vec(vector_size=W2V_SIZE, \n",
    "                                            window=W2V_WINDOW, \n",
    "                                            min_count=W2V_MIN_COUNT, \n",
    "                                            workers=8)"
   ]
  },
  {
   "cell_type": "code",
   "execution_count": 19,
   "metadata": {
    "execution": {
     "iopub.execute_input": "2021-10-30T07:17:54.824188Z",
     "iopub.status.busy": "2021-10-30T07:17:54.823699Z",
     "iopub.status.idle": "2021-10-30T07:17:58.712545Z",
     "shell.execute_reply": "2021-10-30T07:17:58.711529Z",
     "shell.execute_reply.started": "2021-10-30T07:17:54.824151Z"
    }
   },
   "outputs": [],
   "source": [
    "w2v_model.build_vocab(documents)"
   ]
  },
  {
   "cell_type": "code",
   "execution_count": 20,
   "metadata": {
    "execution": {
     "iopub.execute_input": "2021-10-30T07:17:58.715864Z",
     "iopub.status.busy": "2021-10-30T07:17:58.713809Z",
     "iopub.status.idle": "2021-10-30T07:17:58.723010Z",
     "shell.execute_reply": "2021-10-30T07:17:58.722108Z",
     "shell.execute_reply.started": "2021-10-30T07:17:58.715817Z"
    }
   },
   "outputs": [
    {
     "name": "stdout",
     "output_type": "stream",
     "text": [
      "Vocab size 30369\n"
     ]
    }
   ],
   "source": [
    "words = w2v_model.wv.key_to_index\n",
    "vocab_size = len(words)\n",
    "print(\"Vocab size\", vocab_size)"
   ]
  },
  {
   "cell_type": "code",
   "execution_count": 21,
   "metadata": {
    "execution": {
     "iopub.execute_input": "2021-10-30T07:17:58.725409Z",
     "iopub.status.busy": "2021-10-30T07:17:58.724845Z",
     "iopub.status.idle": "2021-10-30T07:29:44.718100Z",
     "shell.execute_reply": "2021-10-30T07:29:44.717392Z",
     "shell.execute_reply.started": "2021-10-30T07:17:58.725361Z"
    }
   },
   "outputs": [
    {
     "name": "stdout",
     "output_type": "stream",
     "text": [
      "CPU times: user 21min 52s, sys: 7.07 s, total: 21min 59s\n",
      "Wall time: 11min 45s\n"
     ]
    },
    {
     "data": {
      "text/plain": [
       "(263121946, 295270528)"
      ]
     },
     "execution_count": 21,
     "metadata": {},
     "output_type": "execute_result"
    }
   ],
   "source": [
    "%%time\n",
    "w2v_model.train(documents, total_examples=len(documents), epochs=W2V_EPOCH)"
   ]
  },
  {
   "cell_type": "code",
   "execution_count": 22,
   "metadata": {
    "execution": {
     "iopub.execute_input": "2021-10-30T07:29:44.719705Z",
     "iopub.status.busy": "2021-10-30T07:29:44.719430Z",
     "iopub.status.idle": "2021-10-30T07:29:44.748911Z",
     "shell.execute_reply": "2021-10-30T07:29:44.748196Z",
     "shell.execute_reply.started": "2021-10-30T07:29:44.719670Z"
    }
   },
   "outputs": [
    {
     "data": {
      "text/plain": [
       "[('luv', 0.5709445476531982),\n",
       " ('loves', 0.5652464032173157),\n",
       " ('loved', 0.5340264439582825),\n",
       " ('adore', 0.5064412355422974),\n",
       " ('amazing', 0.4951012432575226),\n",
       " ('looove', 0.46974778175354004),\n",
       " ('awesome', 0.46866700053215027),\n",
       " ('lovee', 0.4612950384616852),\n",
       " ('loveee', 0.45681679248809814),\n",
       " ('loooove', 0.43337586522102356)]"
      ]
     },
     "execution_count": 22,
     "metadata": {},
     "output_type": "execute_result"
    }
   ],
   "source": [
    "w2v_model.wv.most_similar(\"love\") "
   ]
  },
  {
   "cell_type": "markdown",
   "metadata": {},
   "source": [
    "**Tokenize the Text**"
   ]
  },
  {
   "cell_type": "code",
   "execution_count": 23,
   "metadata": {
    "execution": {
     "iopub.execute_input": "2021-10-30T07:29:44.750656Z",
     "iopub.status.busy": "2021-10-30T07:29:44.750388Z",
     "iopub.status.idle": "2021-10-30T07:30:02.632639Z",
     "shell.execute_reply": "2021-10-30T07:30:02.631870Z",
     "shell.execute_reply.started": "2021-10-30T07:29:44.750620Z"
    }
   },
   "outputs": [
    {
     "name": "stdout",
     "output_type": "stream",
     "text": [
      "Total words 290419\n",
      "CPU times: user 17.8 s, sys: 147 ms, total: 18 s\n",
      "Wall time: 17.9 s\n"
     ]
    }
   ],
   "source": [
    "%%time\n",
    "tokenizer = Tokenizer()\n",
    "tokenizer.fit_on_texts(df_train.text)\n",
    "\n",
    "vocab_size = len(tokenizer.word_index) + 1\n",
    "print(\"Total words\", vocab_size)"
   ]
  },
  {
   "cell_type": "code",
   "execution_count": 24,
   "metadata": {
    "execution": {
     "iopub.execute_input": "2021-10-30T07:30:02.634926Z",
     "iopub.status.busy": "2021-10-30T07:30:02.633777Z",
     "iopub.status.idle": "2021-10-30T07:30:33.543950Z",
     "shell.execute_reply": "2021-10-30T07:30:33.542403Z",
     "shell.execute_reply.started": "2021-10-30T07:30:02.634885Z"
    }
   },
   "outputs": [
    {
     "name": "stdout",
     "output_type": "stream",
     "text": [
      "CPU times: user 30 s, sys: 578 ms, total: 30.6 s\n",
      "Wall time: 30.9 s\n"
     ]
    }
   ],
   "source": [
    "%%time\n",
    "x_train = pad_sequences(tokenizer.texts_to_sequences(df_train.text),\n",
    "                        maxlen=SEQUENCE_LENGTH)\n",
    "\n",
    "x_test = pad_sequences(tokenizer.texts_to_sequences(df_test.text),\n",
    "                       maxlen=SEQUENCE_LENGTH)"
   ]
  },
  {
   "cell_type": "code",
   "execution_count": 25,
   "metadata": {
    "execution": {
     "iopub.execute_input": "2021-10-30T07:30:33.546105Z",
     "iopub.status.busy": "2021-10-30T07:30:33.545587Z",
     "iopub.status.idle": "2021-10-30T07:30:33.649898Z",
     "shell.execute_reply": "2021-10-30T07:30:33.649067Z",
     "shell.execute_reply.started": "2021-10-30T07:30:33.546068Z"
    }
   },
   "outputs": [
    {
     "data": {
      "text/plain": [
       "['POSITIVE', 'NEGATIVE', 'NEUTRAL']"
      ]
     },
     "execution_count": 25,
     "metadata": {},
     "output_type": "execute_result"
    }
   ],
   "source": [
    "labels = df_train.target.unique().tolist()\n",
    "labels.append(NEUTRAL)\n",
    "labels"
   ]
  },
  {
   "cell_type": "code",
   "execution_count": 26,
   "metadata": {
    "execution": {
     "iopub.execute_input": "2021-10-30T07:30:33.651713Z",
     "iopub.status.busy": "2021-10-30T07:30:33.651425Z",
     "iopub.status.idle": "2021-10-30T07:30:34.819985Z",
     "shell.execute_reply": "2021-10-30T07:30:34.819031Z",
     "shell.execute_reply.started": "2021-10-30T07:30:33.651676Z"
    }
   },
   "outputs": [
    {
     "name": "stdout",
     "output_type": "stream",
     "text": [
      "y_train:  (1280000, 1)\n",
      "y_test:  (320000, 1)\n"
     ]
    }
   ],
   "source": [
    "encoder = LabelEncoder()\n",
    "encoder.fit(df_train.target.tolist())\n",
    "\n",
    "y_train = encoder.transform(df_train.target.tolist())\n",
    "y_test = encoder.transform(df_test.target.tolist())\n",
    "\n",
    "y_train = y_train.reshape(-1,1)\n",
    "y_test = y_test.reshape(-1,1)\n",
    "\n",
    "print(\"y_train: \",y_train.shape)\n",
    "print(\"y_test: \",y_test.shape)"
   ]
  },
  {
   "cell_type": "code",
   "execution_count": 27,
   "metadata": {
    "execution": {
     "iopub.execute_input": "2021-10-30T07:30:34.821936Z",
     "iopub.status.busy": "2021-10-30T07:30:34.821622Z",
     "iopub.status.idle": "2021-10-30T07:30:35.328880Z",
     "shell.execute_reply": "2021-10-30T07:30:35.328147Z",
     "shell.execute_reply.started": "2021-10-30T07:30:34.821884Z"
    }
   },
   "outputs": [
    {
     "name": "stdout",
     "output_type": "stream",
     "text": [
      "(290419, 300)\n"
     ]
    }
   ],
   "source": [
    "embedding_matrix = np.zeros((vocab_size, W2V_SIZE))\n",
    "for word, i in tokenizer.word_index.items():\n",
    "  if word in w2v_model.wv:\n",
    "    embedding_matrix[i] = w2v_model.wv[word]\n",
    "\n",
    "print(embedding_matrix.shape)"
   ]
  },
  {
   "cell_type": "code",
   "execution_count": 28,
   "metadata": {
    "execution": {
     "iopub.execute_input": "2021-10-30T07:30:35.330586Z",
     "iopub.status.busy": "2021-10-30T07:30:35.330291Z",
     "iopub.status.idle": "2021-10-30T07:30:35.360005Z",
     "shell.execute_reply": "2021-10-30T07:30:35.359211Z",
     "shell.execute_reply.started": "2021-10-30T07:30:35.330547Z"
    }
   },
   "outputs": [],
   "source": [
    "embedding_layer = Embedding(vocab_size,\n",
    "                            W2V_SIZE,\n",
    "                            weights=[embedding_matrix],\n",
    "                            input_length=SEQUENCE_LENGTH,\n",
    "                            trainable=False)"
   ]
  },
  {
   "cell_type": "markdown",
   "metadata": {},
   "source": [
    "**Build Model**"
   ]
  },
  {
   "cell_type": "code",
   "execution_count": 29,
   "metadata": {
    "execution": {
     "iopub.execute_input": "2021-10-30T07:30:35.361905Z",
     "iopub.status.busy": "2021-10-30T07:30:35.361333Z",
     "iopub.status.idle": "2021-10-30T07:30:38.577280Z",
     "shell.execute_reply": "2021-10-30T07:30:38.576516Z",
     "shell.execute_reply.started": "2021-10-30T07:30:35.361864Z"
    }
   },
   "outputs": [
    {
     "name": "stderr",
     "output_type": "stream",
     "text": [
      "2021-10-30 07:30:35.412786: I tensorflow/stream_executor/cuda/cuda_gpu_executor.cc:937] successful NUMA node read from SysFS had negative value (-1), but there must be at least one NUMA node, so returning NUMA node zero\n",
      "2021-10-30 07:30:35.502485: I tensorflow/stream_executor/cuda/cuda_gpu_executor.cc:937] successful NUMA node read from SysFS had negative value (-1), but there must be at least one NUMA node, so returning NUMA node zero\n",
      "2021-10-30 07:30:35.503249: I tensorflow/stream_executor/cuda/cuda_gpu_executor.cc:937] successful NUMA node read from SysFS had negative value (-1), but there must be at least one NUMA node, so returning NUMA node zero\n",
      "2021-10-30 07:30:35.505272: I tensorflow/core/platform/cpu_feature_guard.cc:142] This TensorFlow binary is optimized with oneAPI Deep Neural Network Library (oneDNN) to use the following CPU instructions in performance-critical operations:  AVX2 AVX512F FMA\n",
      "To enable them in other operations, rebuild TensorFlow with the appropriate compiler flags.\n",
      "2021-10-30 07:30:35.506112: I tensorflow/stream_executor/cuda/cuda_gpu_executor.cc:937] successful NUMA node read from SysFS had negative value (-1), but there must be at least one NUMA node, so returning NUMA node zero\n",
      "2021-10-30 07:30:35.506870: I tensorflow/stream_executor/cuda/cuda_gpu_executor.cc:937] successful NUMA node read from SysFS had negative value (-1), but there must be at least one NUMA node, so returning NUMA node zero\n",
      "2021-10-30 07:30:35.507567: I tensorflow/stream_executor/cuda/cuda_gpu_executor.cc:937] successful NUMA node read from SysFS had negative value (-1), but there must be at least one NUMA node, so returning NUMA node zero\n",
      "2021-10-30 07:30:37.428569: I tensorflow/stream_executor/cuda/cuda_gpu_executor.cc:937] successful NUMA node read from SysFS had negative value (-1), but there must be at least one NUMA node, so returning NUMA node zero\n",
      "2021-10-30 07:30:37.429359: I tensorflow/stream_executor/cuda/cuda_gpu_executor.cc:937] successful NUMA node read from SysFS had negative value (-1), but there must be at least one NUMA node, so returning NUMA node zero\n",
      "2021-10-30 07:30:37.430096: I tensorflow/stream_executor/cuda/cuda_gpu_executor.cc:937] successful NUMA node read from SysFS had negative value (-1), but there must be at least one NUMA node, so returning NUMA node zero\n",
      "2021-10-30 07:30:37.430797: I tensorflow/core/common_runtime/gpu/gpu_device.cc:1510] Created device /job:localhost/replica:0/task:0/device:GPU:0 with 15403 MB memory:  -> device: 0, name: Tesla P100-PCIE-16GB, pci bus id: 0000:00:04.0, compute capability: 6.0\n"
     ]
    },
    {
     "name": "stdout",
     "output_type": "stream",
     "text": [
      "Model: \"sequential\"\n",
      "_________________________________________________________________\n",
      "Layer (type)                 Output Shape              Param #   \n",
      "=================================================================\n",
      "embedding (Embedding)        (None, 300, 300)          87125700  \n",
      "_________________________________________________________________\n",
      "dropout (Dropout)            (None, 300, 300)          0         \n",
      "_________________________________________________________________\n",
      "lstm (LSTM)                  (None, 100)               160400    \n",
      "_________________________________________________________________\n",
      "dense (Dense)                (None, 1)                 101       \n",
      "=================================================================\n",
      "Total params: 87,286,201\n",
      "Trainable params: 160,501\n",
      "Non-trainable params: 87,125,700\n",
      "_________________________________________________________________\n"
     ]
    }
   ],
   "source": [
    "model = Sequential()\n",
    "model.add(embedding_layer)\n",
    "model.add(Dropout(0.5))\n",
    "model.add(LSTM(100, dropout=0.2, recurrent_dropout=0.2))\n",
    "model.add(Dense(1, activation='sigmoid'))\n",
    "\n",
    "model.summary()"
   ]
  },
  {
   "cell_type": "code",
   "execution_count": 30,
   "metadata": {
    "execution": {
     "iopub.execute_input": "2021-10-30T07:30:38.579098Z",
     "iopub.status.busy": "2021-10-30T07:30:38.578812Z",
     "iopub.status.idle": "2021-10-30T07:30:38.592295Z",
     "shell.execute_reply": "2021-10-30T07:30:38.591376Z",
     "shell.execute_reply.started": "2021-10-30T07:30:38.579058Z"
    }
   },
   "outputs": [],
   "source": [
    "model.compile(loss='binary_crossentropy',\n",
    "              optimizer=\"adam\",\n",
    "              metrics=['accuracy'])"
   ]
  },
  {
   "cell_type": "code",
   "execution_count": 31,
   "metadata": {
    "execution": {
     "iopub.execute_input": "2021-10-30T07:30:38.594352Z",
     "iopub.status.busy": "2021-10-30T07:30:38.594087Z",
     "iopub.status.idle": "2021-10-30T07:30:38.599208Z",
     "shell.execute_reply": "2021-10-30T07:30:38.598505Z",
     "shell.execute_reply.started": "2021-10-30T07:30:38.594316Z"
    }
   },
   "outputs": [],
   "source": [
    "callbacks = [ReduceLROnPlateau(monitor='val_loss', patience=5, cooldown=0),\n",
    "             EarlyStopping(monitor='val_acc', min_delta=1e-4, patience=5)]"
   ]
  },
  {
   "cell_type": "code",
   "execution_count": 32,
   "metadata": {
    "execution": {
     "iopub.execute_input": "2021-10-30T07:30:38.601378Z",
     "iopub.status.busy": "2021-10-30T07:30:38.600775Z",
     "iopub.status.idle": "2021-10-30T08:48:03.377478Z",
     "shell.execute_reply": "2021-10-30T08:48:03.376703Z",
     "shell.execute_reply.started": "2021-10-30T07:30:38.601338Z"
    }
   },
   "outputs": [
    {
     "name": "stderr",
     "output_type": "stream",
     "text": [
      "2021-10-30 07:30:38.610086: W tensorflow/core/framework/cpu_allocator_impl.cc:80] Allocation of 1382400000 exceeds 10% of free system memory.\n",
      "2021-10-30 07:30:39.693187: I tensorflow/compiler/mlir/mlir_graph_optimization_pass.cc:185] None of the MLIR Optimization Passes are enabled (registered 2)\n"
     ]
    },
    {
     "name": "stdout",
     "output_type": "stream",
     "text": [
      "Epoch 1/8\n",
      "1125/1125 [==============================] - 581s 514ms/step - loss: 0.5065 - accuracy: 0.7486 - val_loss: 0.4656 - val_accuracy: 0.7790\n",
      "Epoch 2/8\n",
      "1125/1125 [==============================] - 574s 510ms/step - loss: 0.4828 - accuracy: 0.7653 - val_loss: 0.4586 - val_accuracy: 0.7830\n",
      "Epoch 3/8\n",
      "1125/1125 [==============================] - 580s 516ms/step - loss: 0.4768 - accuracy: 0.7689 - val_loss: 0.4555 - val_accuracy: 0.7854\n",
      "Epoch 4/8\n",
      "1125/1125 [==============================] - 573s 509ms/step - loss: 0.4733 - accuracy: 0.7712 - val_loss: 0.4555 - val_accuracy: 0.7858\n",
      "Epoch 5/8\n",
      "1125/1125 [==============================] - 575s 511ms/step - loss: 0.4704 - accuracy: 0.7727 - val_loss: 0.4532 - val_accuracy: 0.7863\n",
      "Epoch 6/8\n",
      "1125/1125 [==============================] - 576s 512ms/step - loss: 0.4681 - accuracy: 0.7745 - val_loss: 0.4516 - val_accuracy: 0.7875\n",
      "Epoch 7/8\n",
      "1125/1125 [==============================] - 575s 511ms/step - loss: 0.4668 - accuracy: 0.7752 - val_loss: 0.4510 - val_accuracy: 0.7882\n",
      "Epoch 8/8\n",
      "1125/1125 [==============================] - 584s 519ms/step - loss: 0.4651 - accuracy: 0.7763 - val_loss: 0.4501 - val_accuracy: 0.7888\n",
      "CPU times: user 1h 33min 8s, sys: 5min 25s, total: 1h 38min 33s\n",
      "Wall time: 1h 17min 24s\n"
     ]
    }
   ],
   "source": [
    "%%time\n",
    "history = model.fit(x_train, y_train,\n",
    "                    batch_size=BATCH_SIZE,\n",
    "                    epochs=EPOCHS,\n",
    "                    validation_split=0.1,\n",
    "                    verbose=1,\n",
    "                    callbacks=callbacks)"
   ]
  },
  {
   "cell_type": "code",
   "execution_count": 33,
   "metadata": {
    "execution": {
     "iopub.execute_input": "2021-10-30T08:48:03.379237Z",
     "iopub.status.busy": "2021-10-30T08:48:03.378878Z",
     "iopub.status.idle": "2021-10-30T08:48:29.896514Z",
     "shell.execute_reply": "2021-10-30T08:48:29.895769Z",
     "shell.execute_reply.started": "2021-10-30T08:48:03.379198Z"
    }
   },
   "outputs": [
    {
     "name": "stdout",
     "output_type": "stream",
     "text": [
      "313/313 [==============================] - 26s 83ms/step - loss: 0.4492 - accuracy: 0.7893\n",
      "ACCURACY: 0.7892781496047974\n",
      "LOSS: 0.4492000937461853\n",
      "CPU times: user 24.9 s, sys: 506 ms, total: 25.4 s\n",
      "Wall time: 26.5 s\n"
     ]
    }
   ],
   "source": [
    "%%time\n",
    "score = model.evaluate(x_test, y_test, batch_size=BATCH_SIZE)\n",
    "\n",
    "print(\"ACCURACY:\",score[1])\n",
    "print(\"LOSS:\",score[0])"
   ]
  },
  {
   "cell_type": "code",
   "execution_count": 38,
   "metadata": {
    "execution": {
     "iopub.execute_input": "2021-10-30T08:49:56.476127Z",
     "iopub.status.busy": "2021-10-30T08:49:56.475414Z",
     "iopub.status.idle": "2021-10-30T08:49:56.912956Z",
     "shell.execute_reply": "2021-10-30T08:49:56.912295Z",
     "shell.execute_reply.started": "2021-10-30T08:49:56.476091Z"
    }
   },
   "outputs": [
    {
     "data": {
      "image/png": "[encoded data removed]",
      "text/plain": [
       "<Figure size 432x288 with 1 Axes>"
      ]
     },
     "metadata": {
      "needs_background": "light"
     },
     "output_type": "display_data"
    },
    {
     "data": {
      "image/png": "[encoded data removed]",
      "text/plain": [
       "<Figure size 432x288 with 1 Axes>"
      ]
     },
     "metadata": {
      "needs_background": "light"
     },
     "output_type": "display_data"
    }
   ],
   "source": [
    "accuracy = history.history['accuracy']\n",
    "val_acc = history.history['val_accuracy']\n",
    "loss = history.history['loss']\n",
    "val_loss = history.history['val_loss']\n",
    " \n",
    "epochs = range(len(accuracy))\n",
    " \n",
    "plt.plot(epochs, accuracy, 'b', label='Training acc')\n",
    "plt.plot(epochs, val_acc, 'r', label='Validation acc')\n",
    "plt.title('Training and validation accuracy')\n",
    "plt.legend()\n",
    " \n",
    "plt.figure()\n",
    " \n",
    "plt.plot(epochs, loss, 'b', label='Training loss')\n",
    "plt.plot(epochs, val_loss, 'r', label='Validation loss')\n",
    "plt.title('Training and validation loss')\n",
    "plt.legend()\n",
    " \n",
    "plt.show()"
   ]
  },
  {
   "cell_type": "code",
   "execution_count": 39,
   "metadata": {
    "execution": {
     "iopub.execute_input": "2021-10-30T08:50:09.398485Z",
     "iopub.status.busy": "2021-10-30T08:50:09.398186Z",
     "iopub.status.idle": "2021-10-30T08:50:09.403937Z",
     "shell.execute_reply": "2021-10-30T08:50:09.403045Z",
     "shell.execute_reply.started": "2021-10-30T08:50:09.398436Z"
    }
   },
   "outputs": [],
   "source": [
    "def decode_sentiment(score, include_neutral=True):\n",
    "    if include_neutral:        \n",
    "        label = NEUTRAL\n",
    "        if score <= SENTIMENT_THRESHOLDS[0]:\n",
    "            label = NEGATIVE\n",
    "        elif score >= SENTIMENT_THRESHOLDS[1]:\n",
    "            label = POSITIVE\n",
    "\n",
    "        return label\n",
    "    else:\n",
    "        return NEGATIVE if score < 0.5 else POSITIVE"
   ]
  },
  {
   "cell_type": "code",
   "execution_count": 40,
   "metadata": {
    "execution": {
     "iopub.execute_input": "2021-10-30T08:50:10.338585Z",
     "iopub.status.busy": "2021-10-30T08:50:10.338161Z",
     "iopub.status.idle": "2021-10-30T08:50:10.348568Z",
     "shell.execute_reply": "2021-10-30T08:50:10.347820Z",
     "shell.execute_reply.started": "2021-10-30T08:50:10.338550Z"
    }
   },
   "outputs": [],
   "source": [
    "def predict(text, include_neutral=True):\n",
    "    start_at = time.time()\n",
    "    \n",
    "    x_test = pad_sequences(tokenizer.texts_to_sequences([text]),\n",
    "                           maxlen=SEQUENCE_LENGTH)\n",
    "    \n",
    "    score = model.predict([x_test])[0]\n",
    "    \n",
    "    label = decode_sentiment(score, include_neutral=include_neutral)\n",
    "\n",
    "    return {\"label\": label, \n",
    "            \"score\": float(score),\n",
    "            \"elapsed_time\": time.time() - start_at}"
   ]
  },
  {
   "cell_type": "code",
   "execution_count": 41,
   "metadata": {
    "execution": {
     "iopub.execute_input": "2021-10-30T08:50:16.442385Z",
     "iopub.status.busy": "2021-10-30T08:50:16.442126Z",
     "iopub.status.idle": "2021-10-30T08:50:16.781033Z",
     "shell.execute_reply": "2021-10-30T08:50:16.780308Z",
     "shell.execute_reply.started": "2021-10-30T08:50:16.442356Z"
    }
   },
   "outputs": [
    {
     "data": {
      "text/plain": [
       "{'label': 'POSITIVE',\n",
       " 'score': 0.9756836295127869,\n",
       " 'elapsed_time': 0.3333921432495117}"
      ]
     },
     "execution_count": 41,
     "metadata": {},
     "output_type": "execute_result"
    }
   ],
   "source": [
    "predict(\"I love the music\")"
   ]
  },
  {
   "cell_type": "code",
   "execution_count": 42,
   "metadata": {
    "execution": {
     "iopub.execute_input": "2021-10-30T08:50:17.998825Z",
     "iopub.status.busy": "2021-10-30T08:50:17.998234Z",
     "iopub.status.idle": "2021-10-30T08:50:18.120218Z",
     "shell.execute_reply": "2021-10-30T08:50:18.119489Z",
     "shell.execute_reply.started": "2021-10-30T08:50:17.998783Z"
    }
   },
   "outputs": [
    {
     "data": {
      "text/plain": [
       "{'label': 'NEGATIVE',\n",
       " 'score': 0.01376677118241787,\n",
       " 'elapsed_time': 0.1142122745513916}"
      ]
     },
     "execution_count": 42,
     "metadata": {},
     "output_type": "execute_result"
    }
   ],
   "source": [
    "predict(\"I hate the rain\")"
   ]
  },
  {
   "cell_type": "code",
   "execution_count": 43,
   "metadata": {
    "execution": {
     "iopub.execute_input": "2021-10-30T08:50:19.310414Z",
     "iopub.status.busy": "2021-10-30T08:50:19.310153Z",
     "iopub.status.idle": "2021-10-30T08:50:19.427248Z",
     "shell.execute_reply": "2021-10-30T08:50:19.426537Z",
     "shell.execute_reply.started": "2021-10-30T08:50:19.310378Z"
    }
   },
   "outputs": [
    {
     "data": {
      "text/plain": [
       "{'label': 'NEGATIVE',\n",
       " 'score': 0.3185729384422302,\n",
       " 'elapsed_time': 0.11026525497436523}"
      ]
     },
     "execution_count": 43,
     "metadata": {},
     "output_type": "execute_result"
    }
   ],
   "source": [
    "predict(\"i don't know what i'm doing\")"
   ]
  },
  {
   "cell_type": "code",
   "execution_count": 44,
   "metadata": {
    "execution": {
     "iopub.execute_input": "2021-10-30T08:50:20.912587Z",
     "iopub.status.busy": "2021-10-30T08:50:20.912118Z",
     "iopub.status.idle": "2021-10-30T08:50:42.719007Z",
     "shell.execute_reply": "2021-10-30T08:50:42.718151Z",
     "shell.execute_reply.started": "2021-10-30T08:50:20.912549Z"
    }
   },
   "outputs": [
    {
     "name": "stdout",
     "output_type": "stream",
     "text": [
      "40/40 [==============================] - 14s 348ms/step\n",
      "CPU times: user 11.3 s, sys: 4.25 s, total: 15.5 s\n",
      "Wall time: 21.8 s\n"
     ]
    }
   ],
   "source": [
    "%%time\n",
    "y_pred_1d = []\n",
    "y_test_1d = list(df_test.target)\n",
    "scores = model.predict(x_test, verbose=1, batch_size=8000)\n",
    "y_pred_1d = [decode_sentiment(score, include_neutral=False) for score in scores]"
   ]
  },
  {
   "cell_type": "code",
   "execution_count": 45,
   "metadata": {
    "execution": {
     "iopub.execute_input": "2021-10-30T08:50:47.580193Z",
     "iopub.status.busy": "2021-10-30T08:50:47.579576Z",
     "iopub.status.idle": "2021-10-30T08:50:47.589090Z",
     "shell.execute_reply": "2021-10-30T08:50:47.587871Z",
     "shell.execute_reply.started": "2021-10-30T08:50:47.580151Z"
    }
   },
   "outputs": [],
   "source": [
    "def plot_confusion_matrix(cm, \n",
    "                          classes,\n",
    "                          title='Confusion matrix',\n",
    "                          cmap=plt.cm.Blues):\n",
    "\n",
    "    cm = cm.astype('float') / cm.sum(axis=1)[:, np.newaxis]\n",
    "\n",
    "    plt.imshow(cm, interpolation='nearest', cmap=cmap)\n",
    "    plt.title(title, fontsize=30)\n",
    "    plt.colorbar()\n",
    "    tick_marks = np.arange(len(classes))\n",
    "    plt.xticks(tick_marks, classes, rotation=90, fontsize=22)\n",
    "    plt.yticks(tick_marks, classes, fontsize=22)\n",
    "\n",
    "    fmt = '.2f'\n",
    "    thresh = cm.max() / 2.\n",
    "    for i, j in itertools.product(range(cm.shape[0]), range(cm.shape[1])):\n",
    "        plt.text(j, i, format(cm[i, j], fmt),\n",
    "                 horizontalalignment=\"center\",\n",
    "                 color=\"white\" if cm[i, j] > thresh else \"black\")\n",
    "\n",
    "    plt.ylabel('True label', fontsize=25)\n",
    "    plt.xlabel('Predicted label', fontsize=25)"
   ]
  },
  {
   "cell_type": "code",
   "execution_count": 46,
   "metadata": {
    "execution": {
     "iopub.execute_input": "2021-10-30T08:50:51.976450Z",
     "iopub.status.busy": "2021-10-30T08:50:51.976171Z",
     "iopub.status.idle": "2021-10-30T08:50:53.588850Z",
     "shell.execute_reply": "2021-10-30T08:50:53.588151Z",
     "shell.execute_reply.started": "2021-10-30T08:50:51.976420Z"
    }
   },
   "outputs": [
    {
     "data": {
      "image/png": "[encoded data removed]",
      "text/plain": [
       "<Figure size 864x864 with 2 Axes>"
      ]
     },
     "metadata": {
      "needs_background": "light"
     },
     "output_type": "display_data"
    },
    {
     "name": "stdout",
     "output_type": "stream",
     "text": [
      "CPU times: user 1.6 s, sys: 142 ms, total: 1.74 s\n",
      "Wall time: 1.61 s\n"
     ]
    }
   ],
   "source": [
    "%%time\n",
    "\n",
    "cnf_matrix = confusion_matrix(y_test_1d, y_pred_1d)\n",
    "plt.figure(figsize=(12,12))\n",
    "plot_confusion_matrix(cnf_matrix,\n",
    "                      classes=df_train.target.unique(),\n",
    "                      title=\"Confusion matrix\")\n",
    "\n",
    "plt.show()"
   ]
  },
  {
   "cell_type": "code",
   "execution_count": 47,
   "metadata": {
    "execution": {
     "iopub.execute_input": "2021-10-30T08:51:22.005972Z",
     "iopub.status.busy": "2021-10-30T08:51:22.005200Z",
     "iopub.status.idle": "2021-10-30T08:51:26.287585Z",
     "shell.execute_reply": "2021-10-30T08:51:26.286820Z",
     "shell.execute_reply.started": "2021-10-30T08:51:22.005928Z"
    }
   },
   "outputs": [
    {
     "name": "stdout",
     "output_type": "stream",
     "text": [
      "              precision    recall  f1-score   support\n",
      "\n",
      "    NEGATIVE       0.79      0.78      0.79    159494\n",
      "    POSITIVE       0.79      0.80      0.79    160506\n",
      "\n",
      "    accuracy                           0.79    320000\n",
      "   macro avg       0.79      0.79      0.79    320000\n",
      "weighted avg       0.79      0.79      0.79    320000\n",
      "\n"
     ]
    }
   ],
   "source": [
    "print(classification_report(y_test_1d, y_pred_1d))"
   ]
  },
  {
   "cell_type": "code",
   "execution_count": 48,
   "metadata": {
    "execution": {
     "iopub.execute_input": "2021-10-30T08:51:45.592236Z",
     "iopub.status.busy": "2021-10-30T08:51:45.591915Z",
     "iopub.status.idle": "2021-10-30T08:51:46.285025Z",
     "shell.execute_reply": "2021-10-30T08:51:46.284336Z",
     "shell.execute_reply.started": "2021-10-30T08:51:45.592200Z"
    }
   },
   "outputs": [
    {
     "data": {
      "text/plain": [
       "0.789278125"
      ]
     },
     "execution_count": 48,
     "metadata": {},
     "output_type": "execute_result"
    }
   ],
   "source": [
    "accuracy_score(y_test_1d, y_pred_1d)"
   ]
  },
  {
   "cell_type": "code",
   "execution_count": 49,
   "metadata": {
    "execution": {
     "iopub.execute_input": "2021-10-30T08:51:49.424731Z",
     "iopub.status.busy": "2021-10-30T08:51:49.424287Z",
     "iopub.status.idle": "2021-10-30T08:51:51.203252Z",
     "shell.execute_reply": "2021-10-30T08:51:51.202507Z",
     "shell.execute_reply.started": "2021-10-30T08:51:49.424690Z"
    }
   },
   "outputs": [],
   "source": [
    "model.save(KERAS_MODEL)\n",
    "pickle.dump(tokenizer, open(TOKENIZER_MODEL, \"wb\"), protocol=0)\n",
    "pickle.dump(encoder, open(ENCODER_MODEL, \"wb\"), protocol=0)"
   ]
  },
  {
   "cell_type": "code",
   "execution_count": 50,
   "metadata": {
    "execution": {
     "iopub.execute_input": "2021-10-30T08:53:04.066999Z",
     "iopub.status.busy": "2021-10-30T08:53:04.066307Z",
     "iopub.status.idle": "2021-10-30T08:53:04.199090Z",
     "shell.execute_reply": "2021-10-30T08:53:04.198363Z",
     "shell.execute_reply.started": "2021-10-30T08:53:04.066959Z"
    }
   },
   "outputs": [],
   "source": [
    "w2v_model.save(WORD2VEC_MODEL)"
   ]
  }
 ],
 "metadata": {
  "kernelspec": {
   "display_name": "Python 3",
   "language": "python",
   "name": "python3"
  },
  "language_info": {
   "codemirror_mode": {
    "name": "ipython",
    "version": 3
   },
   "file_extension": ".py",
   "mimetype": "text/x-python",
   "name": "python",
   "nbconvert_exporter": "python",
   "pygments_lexer": "ipython3",
   "version": "3.7.2"
  }
 },
 "nbformat": 4,
 "nbformat_minor": 4
}
